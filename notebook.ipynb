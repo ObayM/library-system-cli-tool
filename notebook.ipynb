{
 "cells": [
  {
   "cell_type": "code",
   "execution_count": 12,
   "id": "74220b1f",
   "metadata": {},
   "outputs": [],
   "source": [
    "import datetime\n",
    "\n",
    "# class for a book\n",
    "class Book:\n",
    "    def __init__(self, id, name, field, num_papers, writer, publisher,publish_year, porrowed_price):\n",
    "        self.id = id\n",
    "        self.name = name\n",
    "        self.field = field\n",
    "        self.num_papers = num_papers\n",
    "        self.writer = writer\n",
    "        self.publisher = publisher\n",
    "        self.publish_year = publish_year\n",
    "        self.porrowed_price = porrowed_price\n",
    "        \n",
    "        self.is_borrowed = False # default\n",
    "        self.rate = 0 # default\n",
    "        self.reviews = []\n",
    "\n",
    "    def update_info(self, key, value):\n",
    "        # function to update book info\n",
    "        if hasattr(self, key):\n",
    "            setattr(self, key, value)\n",
    "            print(f\"succesfully updated {key}\")\n",
    "        else:\n",
    "            print(f\"Error: attribute not found.\")\n",
    "\n",
    "    def show_all_Info(self):\n",
    "\n",
    "        print(f\"---- Info for Book ID: {self.id} ----\")\n",
    "        for key, value in self.__dict__.items():\n",
    "            print(f\"{key}: {value}\")\n",
    "        print(\"---------------------------------\")\n",
    "        \n",
    "\n",
    "    def calculate_age(self):\n",
    "        age = datetime.datetime.now().year - self.publish_year\n",
    "        return age\n",
    "\n",
    "    def add_review(self, review_text, review_type):\n",
    "\n",
    "        self.reviews.append( {'text': review_text, 'type': review_type} )\n",
    "        print(\"Review added.\")\n",
    "\n",
    "    def show_reviews_details(self):\n",
    "        print(f\"--- Reviews for {self.name} ---\")\n",
    "        if not self.reviews:\n",
    "            print(\"no review's for this book yet.\")\n",
    "        else:\n",
    "            for r in self.reviews:\n",
    "                print(f\"- {r['text']} ({r['type']})\")"
   ]
  },
  {
   "cell_type": "code",
   "execution_count": 13,
   "id": "7475b734",
   "metadata": {},
   "outputs": [
    {
     "name": "stdout",
     "output_type": "stream",
     "text": [
      "justtesting\n"
     ]
    }
   ],
   "source": [
    "books_db = {}\n",
    "\n",
    "book1 = Book(\n",
    "    id='001', name='justtesting', field='idk', num_papers=33352,\n",
    "    writer='ME', publisher='me', publish_year=2008, porrowed_price=0 #everything_should_be_free\n",
    ")\n",
    "book2 = Book(\n",
    "    id='002', name='cool_book', field='no', num_papers=0,\n",
    "    writer='alien', publisher='none', publish_year=00, porrowed_price=0 \n",
    ")\n",
    "\n",
    "books_db[book1.id] = book1\n",
    "books_db[book2.id] = book2\n",
    "\n",
    "print(books_db[book1.id].name)"
   ]
  },
  {
   "cell_type": "code",
   "execution_count": 14,
   "id": "7e5fe6b8",
   "metadata": {},
   "outputs": [
    {
     "name": "stdout",
     "output_type": "stream",
     "text": [
      "cool_book\n",
      "alien\n"
     ]
    }
   ],
   "source": [
    "print(books_db[book2.id].name)\n",
    "print(books_db[book2.id].writer)"
   ]
  },
  {
   "cell_type": "markdown",
   "id": "0a3184fb",
   "metadata": {},
   "source": [
    "#### Everything now works let's create the main interface"
   ]
  },
  {
   "cell_type": "code",
   "execution_count": 15,
   "id": "ef0788a1",
   "metadata": {},
   "outputs": [],
   "source": [
    "def interface():\n",
    "    \n",
    "    while True:\n",
    "        print(\"\\n--- Library System ---\")\n",
    "        print(\"1. Add new book\")\n",
    "        print(\"2. Search about book info\")\n",
    "        print(\"3. Show book reviews\")\n",
    "        print(\"4. Add a review for any book\")\n",
    "        print(\"5. Ubdate book info\")\n",
    "        print(\"6. Exit\")\n",
    "        \n",
    "        choice = input(\"Enter you're choice: \")\n",
    "\n",
    "        if choice == '1':\n",
    "            #get all data\n",
    "            id = input(\"Enter book ID: \")\n",
    "            if id in books_db:\n",
    "                print(\"book with this id already exists.\")\n",
    "                continue\n",
    "            name = input(\"Enter book name: \")\n",
    "            field = input(\"Enter book field: \")\n",
    "            num_papers = int(input(\"Enter number of papers: \"))\n",
    "            writer = input(\"Enter writer: \")\n",
    "            publisher = input(\"Enter publisher: \")\n",
    "            publish_year = int(input(\"Enter publish year: \"))\n",
    "            porrowed_price = float(input(\"Enter the price: \"))\n",
    "            \n",
    "            new_book = Book(id, name, field, num_papers, writer, publisher,publish_year, porrowed_price)\n",
    "            books_db[id] = new_book # insert in the dict\n",
    "            print(\"Book Added.\")\n",
    "\n",
    "        elif choice == '2':\n",
    "            id = input(\"Enter book Id to search: \")\n",
    "            if id in books_db:\n",
    "                books_db[id].show_all_Info()\n",
    "            else:\n",
    "                print(\"book not found.\")\n",
    "\n",
    "        elif choice == '3':\n",
    "            id = input(\"Enter book Id to show reviews for: \")\n",
    "            if id in books_db:\n",
    "                books_db[id].show_reviews_details()\n",
    "            else:\n",
    "                print(\"book not found.\")\n",
    "        \n",
    "        elif choice == '4':\n",
    "            id = input(\"Enter book Id to add review for: \")\n",
    "            if id in books_db:\n",
    "                text = input(\"Enter review text: \")\n",
    "                type = input(\"Enter review type (good, bad): \")\n",
    "                books_db[id].add_review(text, type)\n",
    "            else:\n",
    "                print(\"book not found\")\n",
    "        \n",
    "        elif choice == '5':\n",
    "            id = input(\"Enter book Id to update: \")\n",
    "            if id in books_db:\n",
    "                key = input(\"Enter info to update (e.g. name, writer): \")\n",
    "                val = input(f\"Enter the new value for {key}: \")\n",
    "                books_db[id].update_info(key, val)\n",
    "            else:\n",
    "                print(\"book not found.\")\n",
    "\n",
    "        elif choice == '6':\n",
    "            print(\"Exiting.\")\n",
    "            break\n",
    "        else:\n",
    "            print(\"invalid choice try again\")"
   ]
  },
  {
   "cell_type": "code",
   "execution_count": 16,
   "id": "8e5ddbf9",
   "metadata": {},
   "outputs": [
    {
     "name": "stdout",
     "output_type": "stream",
     "text": [
      "\n",
      "--- Library System ---\n",
      "1. Add new book\n",
      "2. Search about book info\n",
      "3. Show book reviews\n",
      "4. Add a review for any book\n",
      "5. Ubdate book info\n",
      "6. Exit\n",
      "--- Reviews for justtesting ---\n",
      "no review's for this book yet.\n",
      "\n",
      "--- Library System ---\n",
      "1. Add new book\n",
      "2. Search about book info\n",
      "3. Show book reviews\n",
      "4. Add a review for any book\n",
      "5. Ubdate book info\n",
      "6. Exit\n",
      "Exiting.\n"
     ]
    }
   ],
   "source": [
    "interface()"
   ]
  }
 ],
 "metadata": {
  "kernelspec": {
   "display_name": "venv",
   "language": "python",
   "name": "python3"
  },
  "language_info": {
   "codemirror_mode": {
    "name": "ipython",
    "version": 3
   },
   "file_extension": ".py",
   "mimetype": "text/x-python",
   "name": "python",
   "nbconvert_exporter": "python",
   "pygments_lexer": "ipython3",
   "version": "3.13.2"
  }
 },
 "nbformat": 4,
 "nbformat_minor": 5
}
